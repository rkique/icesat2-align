{
 "cells": [
  {
   "cell_type": "markdown",
   "metadata": {},
   "source": [
    "Given an unshifted ATL and lidar segments, this notebook shifts the ATL to the best fit."
   ]
  },
  {
   "cell_type": "code",
   "execution_count": 1,
   "metadata": {},
   "outputs": [
    {
     "name": "stdout",
     "output_type": "stream",
     "text": [
      "Collecting ipynb\n",
      "  Downloading ipynb-0.5.1-py3-none-any.whl.metadata (303 bytes)\n",
      "Downloading ipynb-0.5.1-py3-none-any.whl (6.9 kB)\n",
      "Installing collected packages: ipynb\n",
      "Successfully installed ipynb-0.5.1\n"
     ]
    }
   ],
   "source": [
    "!pip install ipynb"
   ]
  },
  {
   "cell_type": "code",
   "execution_count": 69,
   "metadata": {},
   "outputs": [],
   "source": [
    "from cmath import isnan\n",
    "from ctypes import ArgumentError\n",
    "from re import I\n",
    "from statistics import mean\n",
    "import pandas as pd\n",
    "import datetime\n",
    "import os\n",
    "import argparse\n",
    "import io\n",
    "from csv import writer as csvWriter\n",
    "import math\n",
    "import numpy as np\n",
    "from numpy import power as nppower\n",
    "import datetime\n",
    "from scipy import stats\n",
    "import multiprocessing\n",
    "import traceback\n",
    "\n",
    "ATL07_SPOT_SIZE = 6\n",
    "\n",
    "def rsquared_from_atl_Chirop(atl07Zs, chiropteraZs):\n",
    "    slope, intercept, r_value, p_value, std_err = stats.linregress(atl07Zs, chiropteraZs)\n",
    "    rsquared = r_value ** 2\n",
    "    return rsquared\n",
    "\n",
    "def meanChiropteraForATL(chiropteraDataFrame, atlX, atlY, spotSize):\n",
    "    \"\"\"\n",
    "    Determines the elevation to be used as the corresponding \"chiroptera elevation\" for the given ATLAS sensor point.\n",
    "    This works by first querying the dataframe for any points falling within the spot size radius of the given X and Y, which theoretically represent the center of the area illuminated by the ATLAS sensor's laser.\n",
    "    \"\"\"\n",
    "\n",
    "    relevantPoints = chiropteraDataFrame.query(\"sqrt(@nppower((`x` - @atlX), 2) + @nppower((`y` - @atlY), 2)) <= @spotSize\")\n",
    "    maxZ = relevantPoints[\"z\"].mean()\n",
    "\n",
    "    return maxZ\n",
    "\n",
    "def compareToATL07(chiropteraDataFrame, atl07DataFrame, sample_rate):\n",
    "    \"\"\"\n",
    "    Performs the comparison of the given set of chiroptera data to the given set of ATLAS sensor data.\n",
    "    \"\"\"\n",
    "\n",
    "    cMaxX = chiropteraDataFrame[\"x\"].max()\n",
    "    cMinX = chiropteraDataFrame[\"x\"].min()\n",
    "    cMaxY = chiropteraDataFrame[\"y\"].max()\n",
    "    cMinY = chiropteraDataFrame[\"y\"].min()\n",
    "   \n",
    "    atl07InBoundsDataFrame = atl07DataFrame[(atl07DataFrame['X'] >= cMinX) & \n",
    "                               (atl07DataFrame['X'] <= cMaxX) & \n",
    "                               (atl07DataFrame['Y'] >= cMinY) & \n",
    "                               (atl07DataFrame['Y'] <= cMaxY)]\n",
    "    \n",
    "    #print(f\"atl07InBounds has length {len(atl03InBoundsDataFrame)} \")\n",
    "\n",
    "    chiropteraElevs = []\n",
    "    atl07Elevs = []\n",
    "\n",
    "    #this can take a while... calcChiroptera performs a mean over a spot for each corresponding z value in bounds.\n",
    "    #one approach is to take every Nth Z value...\n",
    "    for ind, row in atl07InBoundsDataFrame.iterrows():\n",
    "        if ind % sample_rate == 0:\n",
    "            x = row[\"X\"]\n",
    "            y = row[\"Y\"]\n",
    "            z = row[\"Z\"]\n",
    "            chiropteraElev = meanChiropteraForATL(chiropteraDataFrame, x, y, ATL07_SPOT_SIZE)\n",
    "            #print(f\"chiropteraElev: {chiropteraElev}\")\n",
    "\n",
    "            if not isnan(chiropteraElev) and not isnan(z):\n",
    "                chiropteraElevs.append(chiropteraElev)\n",
    "                atl07Elevs.append(z)\n",
    "\n",
    "    dfZs = pd.DataFrame(columns=[\"c\",\"a\"])\n",
    "    dfZs[\"c\"] = chiropteraElevs\n",
    "    dfZs[\"a\"] = atl07Elevs\n",
    "    return rsquared_from_atl_Chirop(dfZs['a'], dfZs['c'])"
   ]
  },
  {
   "cell_type": "code",
   "execution_count": 41,
   "metadata": {},
   "outputs": [],
   "source": [
    "def shift_df(df, dx,dy):\n",
    "    df['x'] = df['x'] + dx\n",
    "    df['y'] = df['y'] + dy\n",
    "    return df\n",
    "\n",
    "#Splits a dataframe using an x value. \n",
    "def split_df(df, x):\n",
    "    df1 = df[df['x'] < x]\n",
    "    df2 = df[df['x'] > x]\n",
    "    return df1, df2"
   ]
  },
  {
   "cell_type": "code",
   "execution_count": 49,
   "metadata": {},
   "outputs": [],
   "source": [
    "#concat and subsample\n",
    "df0_4 = pd.read_pickle('data/100 1B/0m-4m.pkl')\n",
    "df4_8 = pd.read_pickle('data/100 1B/4m-8m.pkl')\n",
    "df8_12 = pd.read_pickle('data/100 1B/8m-12m.pkl')\n",
    "df12_16 = pd.read_pickle('data/100 1B/12m-16m.pkl')\n",
    "df16_20 = pd.read_pickle('data/100 1B/16m-20m.pkl')\n",
    "df20_24 = pd.read_pickle('data/100 1B/20m-24m.pkl')\n",
    "df24_28 = pd.read_pickle('data/100 1B/24m-28m.pkl')\n",
    "df28_32 = pd.read_pickle('data/100 1B/28m-32m.pkl')\n",
    "chirop_df = pd.concat([df0_4, df4_8, df8_12, df12_16, df16_20, df20_24, df24_28, df28_32], ignore_index=True)\n",
    "chirop_df.to_pickle('data/100 1B/1_100_1B.pkl')\n",
    "\n",
    "def full_atl_to_xyz(adf):\n",
    "    adf = adf.rename(columns={'x': 'X'})\n",
    "    adf = adf.rename(columns={'y': 'Y'})\n",
    "    adf = adf.rename(columns={'heights': 'Z'})\n",
    "    adf = adf.drop(columns=['dt', 'conf', 'stype', ])\n",
    "    adf = adf.iloc[:, :3]\n",
    "    return adf"
   ]
  },
  {
   "cell_type": "code",
   "execution_count": 85,
   "metadata": {},
   "outputs": [
    {
     "data": {
      "text/plain": [
       "32216.889999998733"
      ]
     },
     "execution_count": 85,
     "metadata": {},
     "output_type": "execute_result"
    }
   ],
   "source": [
    "max(chirop_df['y']) - min(chirop_df['y'])"
   ]
  },
  {
   "cell_type": "markdown",
   "metadata": {},
   "source": [
    "### Scoring"
   ]
  },
  {
   "cell_type": "code",
   "execution_count": 82,
   "metadata": {},
   "outputs": [
    {
     "data": {
      "text/plain": [
       "0.24867469323495867"
      ]
     },
     "execution_count": 82,
     "metadata": {},
     "output_type": "execute_result"
    }
   ],
   "source": [
    "#unshifted score: 0.2298153738854924\n",
    "#with sample rate 100: 0.15159101730401991\n",
    "#with sample rate 10: 0.185965617068619\n",
    "#with sample rate 11: 0.27755104668163544\n",
    "#mean sample rate 100-110: 0.22412478377097417\n",
    "#mean sample rate 90-100: 0.3058223440270319\n",
    "#mean sample rate 80-90: 0.24780283276690201\n",
    "#mean sample rate 120-140: 0.24867469323495867\n",
    "\n",
    "#shifted score: 0.4535434638599172\n",
    "#with sample rate 10: 0.5126277471027988\n",
    "\n",
    "adf = pd.read_csv('data/gt3r_indexed_xyz.csv', index_col=0)\n",
    "dfZs = []\n",
    "for i in range(120,140):\n",
    "    dfZs.append(compareToATL07(chirop_df, adf, i))\n",
    "mean(dfZs)"
   ]
  },
  {
   "cell_type": "code",
   "execution_count": 65,
   "metadata": {},
   "outputs": [
    {
     "data": {
      "text/plain": [
       "0.185965617068619"
      ]
     },
     "execution_count": 65,
     "metadata": {},
     "output_type": "execute_result"
    }
   ],
   "source": [
    "shifted_adf = pd.read_csv('Manual Solution/shifted_xyz.csv')\n",
    "dfz = compareToATL07(chirop_df, shifted_adf)\n",
    "dfz"
   ]
  }
 ],
 "metadata": {
  "kernelspec": {
   "display_name": "cs1430",
   "language": "python",
   "name": "python3"
  },
  "language_info": {
   "codemirror_mode": {
    "name": "ipython",
    "version": 3
   },
   "file_extension": ".py",
   "mimetype": "text/x-python",
   "name": "python",
   "nbconvert_exporter": "python",
   "pygments_lexer": "ipython3",
   "version": "3.9.18"
  }
 },
 "nbformat": 4,
 "nbformat_minor": 2
}

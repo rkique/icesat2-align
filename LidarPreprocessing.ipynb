{
 "cells": [
  {
   "cell_type": "code",
   "execution_count": 18,
   "metadata": {},
   "outputs": [],
   "source": [
    "#CUT LiDAR INTO IMAGE SEGMENTS\n",
    "#With a t,x,y,z Dataframe loaded representing the Chiroptera LiDAR,\n",
    "#cuts the LiDAR into individual segments for each georeferenced raster image.\n",
    "\n",
    "import os\n",
    "from osgeo import gdal\n",
    "\n",
    "unshifted_path = 'shifted_imagery/Chirop 1D/unshifted'\n",
    "\n",
    "for i,filename in enumerate(list(os.listdir(unshifted_path))):\n",
    "    if(filename.endswith('.tif')):\n",
    "        full_unshifted_path = os.path.join(unshifted_path, filename)\n",
    "        ds_original = gdal.Open(full_unshifted_path, gdal.GA_Update)\n",
    "        # get the geotransform as a tuple of 6\n",
    "        gt = ds_original.GetGeoTransform()\n",
    "        x_tl, x_res, dx_dy, y_tl, dy_dx, y_res = gt\n",
    "        (x_br, y_br) = x_tl + ds_original.RasterXSize * x_res, y_tl + ds_original.RasterYSize * y_res\n",
    "        #print(f\"({x_tl} {y_tl}) ({x_br} {y_br})\")\n",
    "        image_lidar = df[(df['x'] > x_tl) & (df['x'] < x_br) & (df['y'] < y_tl) & (df['y'] > y_br)]\n",
    "\n",
    "        with open(f'shifted_imagery/Chirop 1D/unshifted lidar/{filename}.txt', 'w') as ofile:\n",
    "            fmt = '%.0f %8.8f %8.2f %8.2f %8.12f'\n",
    "            np.savetxt(ofile, image_lidar.values, fmt=fmt)"
   ]
  },
  {
   "cell_type": "code",
   "execution_count": 3,
   "metadata": {},
   "outputs": [],
   "source": [
    "#SHIFT CHIROPTERA CSV BY EASTING AND NORTHING\n",
    "#Given X and Y shift values (in meters), shifts a dataframe by those values.\n",
    "#This function is unnecessary and requires modifying a lot of data.\n",
    "#We can shift the ATL line instead.\n",
    "\n",
    "chiroptera_path = 'data/Chiroptera_1B/0m_4m.txt'\n",
    "shiftX, shiftY = 0,0\n",
    "\n",
    "import pandas as pd\n",
    "import os\n",
    "import numpy as np\n",
    "\n",
    "#'data/Chirop_FL2_SA/5-6mc.txt'\n",
    "def shiftChiroptera(filepath, shiftX, shiftY):\n",
    "    columns = [\"c\", \"GPS_time\", \"Shape@X\", \"Shape@Y\", \"chiroptera_z\"]\n",
    "    df = pd.read_fwf(filepath, names=columns)\n",
    "    df[\"Shape@X\"] = df[\"Shape@X\"] + shiftX\n",
    "    df[\"Shape@Y\"] = df[\"Shape@Y\"] + shiftY\n",
    "    fn, _ = filepath.split(\".\")\n",
    "\n",
    "    with open(f\"{fn}_{shiftX:.3f}_{shiftY:.3f}.txt\", 'w') as ofile:\n",
    "        fmt = '%.0f %8.8f %8.2f %8.2f %8.12f'\n",
    "        np.savetxt(ofile, df.values, fmt=fmt)\n",
    "\n",
    "shiftChiroptera(chiroptera_path, shiftX, shiftY)"
   ]
  },
  {
   "cell_type": "markdown",
   "metadata": {},
   "source": []
  },
  {
   "cell_type": "code",
   "execution_count": 7,
   "metadata": {},
   "outputs": [],
   "source": [
    "#APPLY ROTATION AND SHIFT TO ATL CSV\n",
    "import pandas as pd\n",
    "\n",
    "\n",
    "from pyproj import CRS\n",
    "from pyproj import Transformer\n",
    "import pyproj\n",
    "\n",
    "\n",
    "def convert_df_coords(df, epsg):\n",
    "    crs = CRS.from_epsg(epsg)\n",
    "    proj = Transformer.from_crs(crs.geodetic_crs, crs, always_xy=True)\n",
    "    \n",
    "    def transform_x(long, lat):\n",
    "        return proj.transform(long, lat)[0]\n",
    "\n",
    "    def transform_y(long, lat):\n",
    "        return proj.transform(long, lat)[1]\n",
    "\n",
    "    df.insert(loc=0, column='x', value=df.apply(lambda row: transform_x(row['lons'], row['lats']), axis=1))\n",
    "    df.insert(loc=1, column='y', value=df.apply(lambda row: transform_y(row['lons'], row['lats']), axis=1))\n",
    "    df = df.drop(['lons', 'lats'], axis=1)\n",
    "    return df\n",
    "\n",
    "def rotate_from_center(x, y, ox, oy, degrees):\n",
    "    xt,yt = x - ox, y - oy\n",
    "    c = np.cos(np.radians(degrees))\n",
    "    s = np.sin(np.radians(degrees))\n",
    "    xr = xt * c - yt * s\n",
    "    yr = xt * s + yt * c\n",
    "    x, y = xr + ox, yr + oy\n",
    "    return x, y\n",
    "\n",
    "# ox, oy = 558938, 9460633"
   ]
  },
  {
   "cell_type": "markdown",
   "metadata": {},
   "source": []
  }
 ],
 "metadata": {
  "kernelspec": {
   "display_name": "env",
   "language": "python",
   "name": "python3"
  },
  "language_info": {
   "codemirror_mode": {
    "name": "ipython",
    "version": 3
   },
   "file_extension": ".py",
   "mimetype": "text/x-python",
   "name": "python",
   "nbconvert_exporter": "python",
   "pygments_lexer": "ipython3",
   "version": "3.11.3"
  }
 },
 "nbformat": 4,
 "nbformat_minor": 2
}

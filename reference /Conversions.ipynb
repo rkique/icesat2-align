{
 "cells": [
  {
   "cell_type": "code",
   "execution_count": null,
   "metadata": {},
   "outputs": [],
   "source": [
    "!pip3 install pyproj\n",
    "\n",
    "#CHIROPTERA TO FWF\n",
    "#This script converts the original Chiroptera data to t,x,y,z dataframe\n",
    "\n",
    "import numpy as np\n",
    "#latitude: 85, longitude: -74\n",
    "#proj.transform(row['longitude'], row['latitude'])\n",
    "#for i in range(0,100):\n",
    "#   row = df.iloc(i)\n",
    "\n",
    "from pyproj import CRS\n",
    "from pyproj import Transformer\n",
    "import pyproj\n",
    "crs = CRS.from_epsg(32616)\n",
    "proj = Transformer.from_crs(crs.geodetic_crs, crs, always_xy=True)\n",
    "\n",
    "import pandas as pd\n",
    "\n",
    "#use geopandas to transform lat, long to utm easting, northing meters\n",
    "df = pd.read_csv('data/Chirop_20220726_FL1_SB_GT3R.csv')\n",
    "df\n",
    "\n",
    "def transform_x(long, lat):\n",
    "    return proj.transform(long, lat)[0]\n",
    "\n",
    "def transform_y(long, lat):\n",
    "    return proj.transform(long, lat)[1]\n",
    "\n",
    "df['x'] = df.apply(lambda row: transform_x(row['longitude'], row['latitude']), axis=1)\n",
    "df['y'] = df.apply(lambda row: transform_y(row['longitude'], row['latitude']), axis=1)\n",
    "df = df.drop(columns=['corr_height_rel005', 'latitude', 'longitude'])\n",
    "df = df.rename(columns={'corr_height_rel006': 'z'})\n",
    "df = df[['GPS_time', 'x', 'y', 'z']]\n",
    "df"
   ]
  },
  {
   "cell_type": "code",
   "execution_count": null,
   "metadata": {},
   "outputs": [],
   "source": [
    "#writes the active df to a text file in fixed-width format.\n",
    "import numpy as np\n",
    "with open(\"data/Chiroptera_1B.txt\", 'w') as output_file:\n",
    "        fmt = '%8.8f %8.2f %8.2f %8.12f'\n",
    "        np.savetxt(output_file, df.values, fmt=fmt)"
   ]
  }
 ],
 "metadata": {
  "language_info": {
   "name": "python"
  }
 },
 "nbformat": 4,
 "nbformat_minor": 2
}

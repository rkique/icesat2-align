{
 "cells": [
  {
   "cell_type": "markdown",
   "metadata": {},
   "source": [
    "Here is the code used to actually shift the ATL to produce the manually corrected graph. \n",
    "\n",
    "Examine ATL at points along track, displaying graduated heights.\n",
    "If the ATL heights are noticeably misaligned to the raster classification:\n",
    "  - Note the image number for splitting the CSV.\n",
    "  - If it appears to be a regular mismatch, record the offset along hypotenuse and calculate the X and Y drift values with basic trignometry.\n",
    "  - Otherwise, estimate X and Y drift values with the Measure tool.\n",
    "  - Split the CSV and shift with the X and Y drift values. \n",
    "  - Updates to the source CSV trigger updates to the QGIS canvas, which makes reasonable estimates easy to achieve."
   ]
  },
  {
   "cell_type": "code",
   "execution_count": null,
   "metadata": {},
   "outputs": [],
   "source": [
    "import pandas as pd\n",
    "\n",
    "def shift_df(df, dx,dy):\n",
    "    df['x'] = df['x'] + dx\n",
    "    df['y'] = df['y'] + dy\n",
    "    return df\n",
    "\n",
    "#Splits a dataframe using an x value. \n",
    "def split_df(df, x):\n",
    "    df1 = df[df['x'] < x]\n",
    "    df2 = df[df['x'] > x]\n",
    "    return df1, df2\n",
    "\n",
    "#Observed slope for ATL.\n",
    "slope = 3.09\n",
    "\n",
    "def xy_from_hyp(hyp, slope):\n",
    "    x = np.sqrt(hyp / (slope + 1))\n",
    "    y = slope * x\n",
    "    return (x,y)\n",
    "\n",
    "gt3r = pd.read_csv('df4.csv')\n",
    "\n",
    "#Splits the dataframe and shifts the latter part\n",
    "#(recall that the ATL line \"points\" up and to the right, so the orientation should match intuition\n",
    "#Saves the latter part to a CSV (to be joined later)\n",
    "\n",
    "# _, to_shift = split_df(gt3r, 580435)\n",
    "# dx = -4\n",
    "# dy = -14\n",
    "# shifted = shift_df(to_shift, dx, dy)\n",
    "# shifted.to_csv(f'df5.csv', index=False)\n"
   ]
  },
  {
   "cell_type": "code",
   "execution_count": null,
   "metadata": {},
   "outputs": [],
   "source": [
    "#This script was used to calculate the slope of line\n",
    "import pandas as pd\n",
    "# gt3r = pd.read_csv('gt3r_0_0.csv')\n",
    "# l = []\n",
    "\n",
    "# for i in range(1, len(gt3r)):\n",
    "#     xx = gt3r['x'].iloc[i]\n",
    "#     if xx > 558000 and xx < 569000:\n",
    "#         dy = gt3r['y'].iloc[i] - gt3r['y'].iloc[i - 1]\n",
    "#         dx = gt3r['x'].iloc[i] - gt3r['x'].iloc[i - 1]\n",
    "#         l.append(dy / dx)\n",
    "# print(sum(l)/len(l))"
   ]
  }
 ],
 "metadata": {
  "language_info": {
   "name": "python"
  }
 },
 "nbformat": 4,
 "nbformat_minor": 2
}

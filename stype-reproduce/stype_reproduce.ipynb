{
 "cells": [
  {
   "cell_type": "markdown",
   "metadata": {},
   "source": [
    "This code reproduces the surface type classification for Winter Arctic and Antarctic using the decision tree from the ATLAS theoretical basis document, version 6. The parameters used are the photon rate, the width of fit, the elevation of the sun, and the background rate."
   ]
  },
  {
   "cell_type": "code",
   "execution_count": 1,
   "metadata": {},
   "outputs": [],
   "source": [
    "import pandas as pd\n",
    "adf = pd.read_csv('gt3r_full.csv')\n",
    "a3df = pd.read_csv('gt3r_atl03.csv')\n",
    "adf['background_rate'] = a3df['bckgrd_rate']\n",
    "\n",
    "#columns: ['lats', 'lons', 'heights', 'dt', 'conf', 'stype', 'ssh_flag', 'gauss', 'photon_rate', 'cloud', \n",
    "#'backgr_r_200', 'backgr_r_25', 'background_r_norm', 'mss', 'ocean', 'lpe', 'ib', 'width_of_fit','solar_elevation', 'background_rate']"
   ]
  },
  {
   "cell_type": "code",
   "execution_count": 2,
   "metadata": {},
   "outputs": [
    {
     "data": {
      "text/plain": [
       "Index(['lats', 'lons', 'heights', 'dt', 'conf', 'stype', 'ssh_flag', 'gauss',\n",
       "       'photon_rate', 'cloud', 'backgr_r_200', 'backgr_r_25',\n",
       "       'background_r_norm', 'mss', 'ocean', 'lpe', 'ib', 'width_of_fit',\n",
       "       'solar_elevation', 'background_rate'],\n",
       "      dtype='object')"
      ]
     },
     "execution_count": 2,
     "metadata": {},
     "output_type": "execute_result"
    }
   ],
   "source": [
    "adf.columns"
   ]
  },
  {
   "cell_type": "code",
   "execution_count": 32,
   "metadata": {},
   "outputs": [
    {
     "data": {
      "text/plain": [
       "0        3.402823e+38\n",
       "1        3.402823e+38\n",
       "2        3.402823e+38\n",
       "3        3.402823e+38\n",
       "4        3.402823e+38\n",
       "             ...     \n",
       "88035    3.402823e+38\n",
       "88036    3.402823e+38\n",
       "88037    3.402823e+38\n",
       "88038    3.402823e+38\n",
       "88039    3.402823e+38\n",
       "Name: photon_rate, Length: 88040, dtype: float64"
      ]
     },
     "execution_count": 32,
     "metadata": {},
     "output_type": "execute_result"
    }
   ],
   "source": [
    "adf['photon_rate']"
   ]
  },
  {
   "cell_type": "code",
   "execution_count": 127,
   "metadata": {},
   "outputs": [],
   "source": [
    "#r_surf: surface photon rate\n",
    "#P1, P2, P3, P4, W1, W2, theta, B1\n",
    "#w_s: width of fitted gaussian\n",
    "import numpy as np\n",
    "\n",
    "# 15.0\n",
    "P1 = 0.5\n",
    "P2 = 2.5\n",
    "P3 = 11.0\n",
    "P4 = 14.0\n",
    "W1 = 0.13\n",
    "W2 = 0.17\n",
    "B1 = 4.0\n",
    "\n",
    "\n",
    "#beams 1, 3, 5 are the strong beams, this is beam 6 (weak)\n",
    "#target: 88040 matches\n",
    "\n",
    "# surface type for each segment\n",
    "def assign_surface_type(row, P1, P2, P3, P4, W1, W2, theta_cntl, B1):\n",
    "\n",
    "    theta_cntl = np.radians(15.0)\n",
    "    theta_nlb = np.radians(5.0)\n",
    "    theta_ref = np.radians(20.0)\n",
    "    #beam gain: Additionally, to accommodate for the differences in returns for each beam,\n",
    "    # P1, P2, P3, and P4 should be multiplied by relative gain of each beam (beam_gain): i.e.,\n",
    "    # Pn = Pn*beam_gain()\n",
    "    #weak beam divide by four\n",
    "    \n",
    "    P1 = P1 * 0.25\n",
    "    P2 = P2 * 0.25\n",
    "    P3 = P3 * 0.25\n",
    "    P4 = P4 * 0.25\n",
    "    #there's something wrong with r_surf\n",
    "    r_surf = row['photon_rate']\n",
    "    #r_surf = \n",
    "    w_s = row['width_of_fit']\n",
    "    solar_elev = row['solar_elevation']\n",
    "    solar_elev = np.radians(solar_elev)\n",
    "    #print(solar_elev)\n",
    "    theta_max = np.max([solar_elev, theta_nlb])\n",
    "    #r_bkg_norm can be calculated from # of shots and 200-Hz background rates, but it should also be provided.\n",
    "    r_bkg_norm = row['background_r_norm'] # * np.cos(np.pi/2 - theta_ref) / np.cos(np.pi/2 - theta_max)\n",
    "\n",
    "    #add Th_pr_ratio\n",
    "    # if r_surf < 1.5:\n",
    "    #     return 1\n",
    "    \n",
    "    if r_surf <= P1:\n",
    "        return 0\n",
    "    \n",
    "    #2: specular lead low w/bkg\n",
    "    elif P3 <= r_surf <= P4 and w_s <= W1 and r_bkg_norm <= B1 and solar_elev >= theta_cntl:\n",
    "        return 2\n",
    "    \n",
    "    #3: specular lead low\n",
    "    elif P3 <= r_surf <= P4 and w_s <= W1 and solar_elev < theta_cntl:\n",
    "        return 3\n",
    "    \n",
    "    #4: specular lead high with bkg\n",
    "    elif r_surf > P4 and w_s <= W1 and r_bkg_norm <= B1 and solar_elev >= theta_cntl:\n",
    "        return 4\n",
    "    \n",
    "    #5 specular lead high \n",
    "    elif r_surf > P4 and w_s <= W1 and solar_elev < theta_cntl:\n",
    "        return 5\n",
    "    \n",
    "    #6 dark lead (smooth)\n",
    "    elif P1 < r_surf <= P2 and w_s <= W1 and r_bkg_norm <= B1 and solar_elev >= theta_cntl:\n",
    "        return 6\n",
    "    \n",
    "    #7 dark lead (smooth)\n",
    "    elif P1 < r_surf <= P2 and w_s <= W1 and solar_elev < theta_cntl:\n",
    "        return 7\n",
    "    #8 dark lead (rough)\n",
    "    elif P1 < r_surf <= P2 and W1 < w_s <= W2 and r_bkg_norm <= B1 and solar_elev >= theta_cntl:\n",
    "        return 8\n",
    "    #9 dark lead (rough)\n",
    "    elif P1 < r_surf <= P2 and W1 < w_s <= W2 and solar_elev < theta_cntl:\n",
    "        return 9\n",
    "    \n",
    "    #1 all other ice\n",
    "    else:\n",
    "        return 1"
   ]
  },
  {
   "cell_type": "code",
   "execution_count": 128,
   "metadata": {},
   "outputs": [
    {
     "name": "stdout",
     "output_type": "stream",
     "text": [
      "surface_type\n",
      "1    87934\n",
      "5      102\n",
      "3        4\n",
      "Name: count, dtype: int64\n",
      "stype\n",
      "1    73591\n",
      "2     7602\n",
      "4     4316\n",
      "6     1823\n",
      "8      708\n",
      "Name: count, dtype: int64\n"
     ]
    }
   ],
   "source": [
    "adf['surface_type'] = adf.apply(lambda row: assign_surface_type(row, P1, P2, P3, P4, W1, W2, theta_cntl, B1), axis=1)\n",
    "\n",
    "#backgr_r_25, theta 15: 73560 matches\n",
    "print(adf['surface_type'].value_counts())\n",
    "print(adf['stype'].value_counts())"
   ]
  }
 ],
 "metadata": {
  "kernelspec": {
   "display_name": "cs1430",
   "language": "python",
   "name": "python3"
  },
  "language_info": {
   "codemirror_mode": {
    "name": "ipython",
    "version": 3
   },
   "file_extension": ".py",
   "mimetype": "text/x-python",
   "name": "python",
   "nbconvert_exporter": "python",
   "pygments_lexer": "ipython3",
   "version": "3.9.18"
  }
 },
 "nbformat": 4,
 "nbformat_minor": 2
}

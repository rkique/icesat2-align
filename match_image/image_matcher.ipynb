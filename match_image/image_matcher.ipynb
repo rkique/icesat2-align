{
 "cells": [
  {
   "cell_type": "code",
   "execution_count": 100,
   "metadata": {},
   "outputs": [],
   "source": [
    "import cv2 as cv\n",
    "def rotate_image(mat, angle):\n",
    "    \"\"\"\n",
    "    Rotates an image (angle in degrees) and expands image to avoid cropping\n",
    "    \"\"\"\n",
    "    \n",
    "    height, width = mat.shape[:2] # image shape has 3 dimensions\n",
    "    image_center = (width/2, height/2) # getRotationMatrix2D needs coordinates in reverse order (width, height) compared to shape\n",
    "    \n",
    "    rotation_mat = cv.getRotationMatrix2D(image_center, angle, 1.)\n",
    "    \n",
    "    # rotation calculates the cos and sin, taking absolutes of those.\n",
    "    abs_cos = abs(rotation_mat[0,0]) \n",
    "    abs_sin = abs(rotation_mat[0,1])\n",
    "    \n",
    "    # find the new width and height bounds\n",
    "    bound_w = int(height * abs_sin + width * abs_cos)\n",
    "    bound_h = int(height * abs_cos + width * abs_sin)\n",
    "    \n",
    "    # subtract old image center (bringing image back to origo) and adding the new image center coordinates\n",
    "    rotation_mat[0, 2] += bound_w/2 - image_center[0]\n",
    "    rotation_mat[1, 2] += bound_h/2 - image_center[1]\n",
    "    \n",
    "    # rotate image with the new bounds and translated rotation matrix\n",
    "    rotated_mat = cv.warpAffine(mat, rotation_mat, (bound_w, bound_h))\n",
    "    return rotated_mat"
   ]
  },
  {
   "cell_type": "code",
   "execution_count": 147,
   "metadata": {},
   "outputs": [
    {
     "name": "stdout",
     "output_type": "stream",
     "text": [
      "loc: (139, 2003) val: 0.12787820398807526\n"
     ]
    }
   ],
   "source": [
    "#This script matches jpgs from the atl_jpg and chirop_jpg folders.\n",
    "#The width of the chiroptera lidar is about 490 meters.\n",
    "\n",
    "import cv2 as cv\n",
    "import numpy as np\n",
    "from matplotlib import pyplot as plt\n",
    "\n",
    "#Applying rotations yields nothing.\n",
    "\n",
    "b1 =  0\n",
    "b2 = b1 + 4\n",
    "# All the 6 methods for comparison in a list\n",
    "methods = ['cv.TM_CCOEFF', 'cv.TM_CCOEFF_NORMED', 'cv.TM_CCORR',\n",
    "'cv.TM_CCORR_NORMED', 'cv.TM_SQDIFF', 'cv.TM_SQDIFF_NORMED']\n",
    "\n",
    "meth = 'cv.TM_CCOEFF_NORMED'\n",
    "method = eval(meth)\n",
    "\n",
    "chirop_path = f'../make_image/chirop_jpg_norm_resized/chirop_{b1}_{b2}.jpg'\n",
    "img = cv.imread(chirop_path, cv.IMREAD_GRAYSCALE)\n",
    "\n",
    "l = []\n",
    "#For angles -5 to 5 with 0.5 degree step, compare images and output max values.\n",
    "atl_path = f'../make_image/atlnr_rotate/atl_{b1}_{b2}_rot_{i}.jpg'\n",
    "template = cv.imread(atl_path, cv.IMREAD_GRAYSCALE)\n",
    "# Apply template matching\n",
    "#print(template.shape)\n",
    "#print(template.shape)\n",
    "res = cv.matchTemplate(img,template,method)\n",
    "min_val, max_val, min_loc, max_loc = cv.minMaxLoc(res)\n",
    "print(f'loc: {max_loc} val: {max_val}')\n",
    "# l.append([i, max_val])\n",
    "# l = np.array(l)\n",
    "# max_idx = np.argmax(l[:,1])\n",
    "# print(f'best corr for {b1}-{b2}: {l[max_idx,:]}')\n",
    "img2 = cv.flip(img, -1)\n",
    "# plt.plot(l[:,1])\n",
    "# plt.subplot(121)\n",
    "# plt.imshow(res,cmap = 'gray')\n",
    "# plt.subplot(122),plt.imshow(img2,cmap = 'gray')\n",
    "# plt.title('Detected Point'), plt.xticks([]), plt.yticks([])\n",
    "# plt.suptitle(meth)\n",
    "\n",
    "# plt.title(f'Best CCOEFF_NORM score for rotations')\n",
    "# plt.show()\n"
   ]
  },
  {
   "cell_type": "code",
   "execution_count": 90,
   "metadata": {},
   "outputs": [],
   "source": [
    "import cv2 as cv\n",
    "import numpy as np\n",
    "from matplotlib import pyplot as plt\n",
    "\n",
    "\n",
    "l = []\n",
    "\n",
    "for i in range(0,8):\n",
    "    b1 = i * 4\n",
    "    b2 = b1 + 4\n",
    "\n",
    "    atl_path = f'../make_image/atl_jpg_norm_resized/atl_{b1}_{b2}.jpg'\n",
    "    chirop_path = f'../make_image/chirop_jpg_norm_resized/chirop_{b1}_{b2}.jpg'\n",
    "\n",
    "    img = cv.imread(chirop_path, cv.IMREAD_GRAYSCALE)\n",
    "    assert img is not None, \"file could not be read, check with os.path.exists()\"\n",
    "    img2 = img.copy()\n",
    "    template = cv.imread(atl_path, cv.IMREAD_GRAYSCALE)\n",
    "    assert template is not None, \"file could not be read, check with os.path.exists()\"\n",
    "    w, h = template.shape[::-1]\n",
    "    \n",
    "    # All the 6 methods for comparison in a list\n",
    "    methods = ['cv.TM_CCOEFF', 'cv.TM_CCOEFF_NORMED', 'cv.TM_CCORR',\n",
    "     'cv.TM_CCORR_NORMED', 'cv.TM_SQDIFF', 'cv.TM_SQDIFF_NORMED']\n",
    "    \n",
    "    meth = 'cv.TM_CCORR'\n",
    "    method = eval(meth)\n",
    "    if method in [cv.TM_SQDIFF, cv.TM_SQDIFF_NORMED]:\n",
    "        top_left = min_loc\n",
    "    else:\n",
    "        top_left = max_loc\n",
    "    # Apply template Matching\n",
    "    #print(img.shape)\n",
    "    #print(template.shape)\n",
    "    res = cv.matchTemplate(img,template,eval(meth))\n",
    "    #print(res.shape)\n",
    "\n",
    "    min_val, max_val, min_loc, max_loc = cv.minMaxLoc(res)\n",
    "\n",
    "    top_left = max_loc\n",
    "    bottom_right = (top_left[0] + w, top_left[1] + h)\n",
    "\n",
    "    cv.rectangle(img,top_left, bottom_right, 255, 2)\n",
    "\n",
    "    # plt.subplot(121),plt.imshow(res,cmap = 'gray')\n",
    "    # plt.title('Matching Result'), plt.xticks([]), plt.yticks([])\n",
    "\n",
    "    # plt.subplot(122),plt.imshow(img,cmap = 'gray')\n",
    "    # plt.title('Detected Point'), plt.xticks([]), plt.yticks([])\n",
    "    # plt.suptitle(meth)\n",
    "    l.append(top_left)"
   ]
  },
  {
   "cell_type": "code",
   "execution_count": 91,
   "metadata": {},
   "outputs": [
    {
     "data": {
      "image/png": "[encoded data removed]",
      "text/plain": [
       "<Figure size 640x480 with 1 Axes>"
      ]
     },
     "metadata": {},
     "output_type": "display_data"
    }
   ],
   "source": [
    "l = np.array(l)\n",
    "x = l[:,0]\n",
    "y = l[:,1]\n",
    "\n",
    "plt.title('ATL-Chiroptera Correspondence Matching')\n",
    "plt.xlabel('X offset (meters)')\n",
    "plt.ylabel('Y offset (meters)')\n",
    "plt.scatter(x,y)\n",
    "plt.show()"
   ]
  }
 ],
 "metadata": {
  "kernelspec": {
   "display_name": "cs1430",
   "language": "python",
   "name": "python3"
  },
  "language_info": {
   "codemirror_mode": {
    "name": "ipython",
    "version": 3
   },
   "file_extension": ".py",
   "mimetype": "text/x-python",
   "name": "python",
   "nbconvert_exporter": "python",
   "pygments_lexer": "ipython3",
   "version": "3.9.18"
  }
 },
 "nbformat": 4,
 "nbformat_minor": 2
}

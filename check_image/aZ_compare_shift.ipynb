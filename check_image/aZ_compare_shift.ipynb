{
 "cells": [
  {
   "cell_type": "code",
   "execution_count": 84,
   "metadata": {},
   "outputs": [],
   "source": [
    "#1. given four coordinates and a rotation angle, get XatTopEdge and YatLeftEdge.\n",
    "chirop = pd.read_pickle('../data/1C/10 1C/0m_4m.pkl')\n",
    "tl, \n",
    "#2. add x to top edge and y at left edge to get the top-left chiroptera point.\n",
    "\n",
    "#3. calculate the reset between the chiroptera and atl, and add it to atl. \n",
    "\n",
    "#4. add the rotated offset to the atl.\n",
    "\n",
    "#5. run correlation!\n"
   ]
  },
  {
   "cell_type": "code",
   "execution_count": 38,
   "metadata": {},
   "outputs": [
    {
     "data": {
      "text/plain": [
       "1050.867886489478"
      ]
     },
     "execution_count": 38,
     "metadata": {},
     "output_type": "execute_result"
    }
   ],
   "source": [
    "import numpy as np\n",
    "1/np.cos(np.deg2rad(17.9)) * 1000"
   ]
  },
  {
   "cell_type": "code",
   "execution_count": 45,
   "metadata": {},
   "outputs": [
    {
     "name": "stdout",
     "output_type": "stream",
     "text": [
      "569358.0299999999 571119.9599999998 9492739.940000001 9497243.080000002\n"
     ]
    }
   ],
   "source": [
    "import math\n",
    "\n",
    "import pandas as pd\n",
    "import geopandas as gpd\n",
    "chirop = pd.read_pickle('../data/1C/10 1C/0m_4m.pkl')\n",
    "\n",
    "atl_df = pd.read_csv('unshifted_gt3r_full.csv')\n",
    "\n",
    "b1 = 0\n",
    "b2 = b1 + 4\n",
    "chirop_df = pd.read_pickle(f'../data/1C/10 1C/{b1}m_{b2}m.pkl')\n",
    "\n",
    "x_min = min(chirop_df['x'])\n",
    "x_max = max(chirop_df['x'])\n",
    "y_min = min(chirop_df['y'])\n",
    "y_max = max(chirop_df['y'])\n",
    "\n",
    "# print(f'{x_min} {x_max} {y_min} {y_max}')\n",
    "# box = np.array([[x_min, y_min], [x_min, y_max], [x_max, y_min], [x_max, y_max]])\n",
    "# np.savetxt('box.txt', box)\n",
    "\n",
    "#atl_df = atl_df[(atl_df['x'] >= x_min) & (atl_df['x'] <= x_max)]\n",
    "\n",
    "\n",
    "#we are comparing the 1000:-1000 section of the (straight) ATL against the chiroptera in feature matching\n",
    "#we should have the full match though.\n",
    "#so we do 1/cos(17.9) * 1000 to get the y cutoffs\n",
    "\n",
    "#this was primarily for comparison purposes\n",
    "atl_df = atl_df[(atl_df['y'] >= y_min + 1051) & (atl_df['y'] <= y_max - 1051)]\n",
    "\n",
    "#the original df WAS super long...\n",
    "# atl_df = atl_df[(atl_df['y'] >= y_min) & (atl_df['y'] <= y_max)]\n",
    "\n",
    "print(f'{x_min} {x_max} {y_min} {y_max}')\n",
    "\n",
    "TL_POINT = (570762.9061543589, 9497299.94695935)\n",
    "\n",
    "x_max = max(atl_df['x'])\n",
    "y_max = max(atl_df['y'])\n",
    "\n",
    "offset = (TL_POINT[0] - x_max, TL_POINT[1] - y_max)\n",
    "\n",
    "atl_df['x'] = atl_df['x'] + offset[0]\n",
    "atl_df['y'] = atl_df['y'] + offset[1]\n",
    "atl_df.to_csv('debug_shifted_atl.csv', index=False)"
   ]
  },
  {
   "cell_type": "code",
   "execution_count": 46,
   "metadata": {},
   "outputs": [
    {
     "name": "stdout",
     "output_type": "stream",
     "text": [
      "(32.354209731900895, 10.45012500519344)\n"
     ]
    }
   ],
   "source": [
    "import math\n",
    "import numpy as np\n",
    "ANGLE = 17.9\n",
    "def rotate(origin, point, angle):\n",
    "    ox, oy = origin\n",
    "    px, py = point\n",
    "\n",
    "    qx = ox + math.cos(angle) * (px - ox) - math.sin(angle) * (py - oy)\n",
    "    qy = oy + math.sin(angle) * (px - ox) + math.cos(angle) * (py - oy)\n",
    "    return qx, qy\n",
    "\n",
    "best_fit = (34, 0)\n",
    "best_fit = rotate((0,0), best_fit, np.deg2rad(ANGLE))\n",
    "print(best_fit)\n",
    "atl_df['x'] = atl_df['x'] + best_fit[0]\n",
    "atl_df['y'] = atl_df['y'] - best_fit[1]"
   ]
  },
  {
   "cell_type": "code",
   "execution_count": 47,
   "metadata": {},
   "outputs": [],
   "source": [
    "atl_df.to_csv('debug_shifted_atl.csv', index=False)"
   ]
  },
  {
   "cell_type": "code",
   "execution_count": null,
   "metadata": {},
   "outputs": [],
   "source": [
    "#if we wanted to align it, we could set the atl first point to the (x,y) of the first chiroptera.\n",
    "#but we also want to get the right position..\n",
    "\n",
    "#this uses the formula for rotation derived from trig addition formulas.\n",
    "#set atl_df to left edge of the chiroptera\n",
    "#read chiroptera[0]\n",
    "import numpy as np\n",
    "\n",
    "\n",
    "\n",
    "chirop_bl = chirop_df.iloc[0,2]\n",
    "atl_bl = atl_df.iloc[0,0]\n",
    "\n",
    "offset = chirop_bl - atl_bl\n",
    "print(chirop_bl)\n",
    "print(atl_bl)\n",
    "print(offset)\n",
    "\n",
    "atl_df['x'] = atl_df['x'] - offset\n",
    "\n",
    "# ANGLE = -17.9\n",
    "# #apply rotated shift\n",
    "# best_fit = (35, 28)\n",
    "# best_fit = rotate((0,0), best_fit, np.deg2rad(ANGLE))\n",
    "\n",
    "#image coordinates are inverted.\n",
    "\n",
    "# atl_df['x'] = atl_df['x'] + best_fit[0]\n",
    "# atl_df['y'] = atl_df['y'] + best_fit[1]\n",
    "\n",
    "#chirop_df.to_csv('debug_chirop_0_4.csv', index=False)\n",
    "atl_df.to_csv('debug_atl_0_4.csv', index=False)"
   ]
  }
 ],
 "metadata": {
  "kernelspec": {
   "display_name": "cs1430",
   "language": "python",
   "name": "python3"
  },
  "language_info": {
   "codemirror_mode": {
    "name": "ipython",
    "version": 3
   },
   "file_extension": ".py",
   "mimetype": "text/x-python",
   "name": "python",
   "nbconvert_exporter": "python",
   "pygments_lexer": "ipython3",
   "version": "3.9.18"
  }
 },
 "nbformat": 4,
 "nbformat_minor": 2
}

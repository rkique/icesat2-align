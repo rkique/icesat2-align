{
 "cells": [
  {
   "cell_type": "code",
   "execution_count": 84,
   "metadata": {},
   "outputs": [],
   "source": [
    "#1. given four coordinates and a rotation angle, get XatTopEdge and YatLeftEdge.\n",
    "chirop = pd.read_pickle('../data/1C/10 1C/0m_4m.pkl')\n",
    "tl, \n",
    "#2. add x to top edge and y at left edge to get the top-left chiroptera point.\n",
    "\n",
    "#3. calculate the reset between the chiroptera and atl, and add it to atl. \n",
    "\n",
    "#4. add the rotated offset to the atl.\n",
    "\n",
    "#5. run correlation!\n"
   ]
  },
  {
   "cell_type": "code",
   "execution_count": 38,
   "metadata": {},
   "outputs": [
    {
     "data": {
      "text/plain": [
       "1050.867886489478"
      ]
     },
     "execution_count": 38,
     "metadata": {},
     "output_type": "execute_result"
    }
   ],
   "source": [
    "import numpy as np\n",
    "1/np.cos(np.deg2rad(17.9)) * 1000"
   ]
  },
  {
   "cell_type": "code",
   "execution_count": 109,
   "metadata": {},
   "outputs": [
    {
     "name": "stdout",
     "output_type": "stream",
     "text": [
      "(570762.9061543589, 9497299.94695935)\n"
     ]
    }
   ],
   "source": [
    "import pandas as pd\n",
    "import numpy as np\n",
    "import math\n",
    "\n",
    "#Because the image matcher matches ATL and chiroptera images from the top left,\n",
    "#it is necessary to geolocate the original top left corner of the Chiroptera.\n",
    "#To do this, we unrotate the original Chiroptera LiDAR (which is at an angle), gets (xmin, ymax), and re-rotate it.\n",
    "\n",
    "def rotate(origin, point, angle):\n",
    "    ox, oy = origin\n",
    "    px, py = point\n",
    "\n",
    "    qx = ox + math.cos(angle) * (px - ox) - math.sin(angle) * (py - oy)\n",
    "    qy = oy + math.sin(angle) * (px - ox) + math.cos(angle) * (py - oy)\n",
    "    return qx, qy\n",
    "\n",
    "b1, b2 = 0,4\n",
    "df = pd.read_pickle(f'../data/1C/10 1C/{b1}m_{b2}m.pkl')\n",
    "ANGLE = np.deg2rad(17.9)\n",
    "center = ((min(df['x']) + max(df['x'])) / 2, (min(df['y']) + max(df['y'])) / 2)\n",
    "\n",
    "for index, row in df.iterrows():\n",
    "    (x,y) = rotate(center, (row['x'], row['y']), ANGLE)\n",
    "    row['x'], row['y'] = (x,y)\n",
    "\n",
    "(rx, ry) = (min(df['x']), max(df['y']))\n",
    "(urx, ury) = rotate(center, (rx, ry), -ANGLE)\n",
    "#df.to_csv('rot_debug_chirop_df.csv', index=False)\n",
    "print((urx, ury))"
   ]
  },
  {
   "cell_type": "code",
   "execution_count": null,
   "metadata": {},
   "outputs": [],
   "source": [
    "#Top left results:\n",
    "#17.88: 570762.38, 9497300.03\n",
    "#17.9: 570762.90, 9497299.95"
   ]
  },
  {
   "cell_type": "code",
   "execution_count": 107,
   "metadata": {},
   "outputs": [
    {
     "name": "stdout",
     "output_type": "stream",
     "text": [
      "xrange: 1761.9299999999348 yrange: 4503.140000000596\n",
      "569358.0299999999 571119.9599999998 9492739.940000001 9497243.080000002\n",
      "(-239.94218549855844, 857.760308954766)\n"
     ]
    }
   ],
   "source": [
    "import math\n",
    "\n",
    "import pandas as pd\n",
    "import geopandas as gpd\n",
    "chirop = pd.read_pickle('../data/1C/10 1C/0m_4m.pkl')\n",
    "atl_df = pd.read_csv('unshifted_gt3r_full.csv')\n",
    "\n",
    "b1 = 0\n",
    "b2 = b1 + 4\n",
    "chirop_df = pd.read_pickle(f'../data/1C/10 1C/{b1}m_{b2}m.pkl')\n",
    "\n",
    "x_min = min(chirop_df['x'])\n",
    "x_max = max(chirop_df['x'])\n",
    "y_min = min(chirop_df['y'])\n",
    "y_max = max(chirop_df['y'])\n",
    "\n",
    "print(f\"xrange: {x_max - x_min} yrange: {y_max - y_min}\")\n",
    "#getting the correct cutoffs here is critical for the shift, because we base our shift on the top-left point.\n",
    "#Why are the correct bounds around 1737:3737? We would expect it to be 2000:4000\n",
    "#the original df has bounds 2000:4000 above the y_min\n",
    "\n",
    "#SET ATL BOUNDS\n",
    "LBOUND = 1737\n",
    "HBOUND = LBOUND + 2000\n",
    "atl_df = atl_df[(atl_df['y'] >= y_min + LBOUND) & (atl_df['y'] <= y_min + HBOUND)]\n",
    "print(f'{x_min} {x_max} {y_min} {y_max}')\n",
    "TL_POINT = (570762.9061543589, 9497299.94695935)\n",
    "x_max = max(atl_df['x'])\n",
    "y_max = max(atl_df['y'])\n",
    "offset = (TL_POINT[0] - x_max, TL_POINT[1] - y_max)\n",
    "atl_df['x'] = atl_df['x'] + offset[0]\n",
    "atl_df['y'] = atl_df['y'] + offset[1]\n",
    "\n",
    "#At this point, the ATL has been matched to the top-left corner.\n",
    "#SHIFT WITH BEST FIT (from image_matcher)\n",
    "ANGLE = 17.88\n",
    "def rotate(origin, point, angle):\n",
    "    ox, oy = origin\n",
    "    px, py = point\n",
    "\n",
    "    qx = ox + math.cos(angle) * (px - ox) - math.sin(angle) * (py - oy)\n",
    "    qy = oy + math.sin(angle) * (px - ox) + math.cos(angle) * (py - oy)\n",
    "    return qx, qy\n",
    "\n",
    "#(x,y)\n",
    "best_fit = (35, 890)\n",
    "best_fit = rotate((0,0), best_fit, np.deg2rad(ANGLE))\n",
    "print(best_fit)\n",
    "#the calculated y shift is in the negative direction, so we reverse it here.\n",
    "atl_df['x'] = atl_df['x'] + best_fit[0]\n",
    "atl_df['y'] = atl_df['y'] - best_fit[1]\n",
    "\n",
    "atl_df.to_csv('debug_shifted_atl.csv', index=False)"
   ]
  }
 ],
 "metadata": {
  "kernelspec": {
   "display_name": "cs1430",
   "language": "python",
   "name": "python3"
  },
  "language_info": {
   "codemirror_mode": {
    "name": "ipython",
    "version": 3
   },
   "file_extension": ".py",
   "mimetype": "text/x-python",
   "name": "python",
   "nbconvert_exporter": "python",
   "pygments_lexer": "ipython3",
   "version": "3.9.18"
  }
 },
 "nbformat": 4,
 "nbformat_minor": 2
}

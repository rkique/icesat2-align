{
 "cells": [
  {
   "cell_type": "code",
   "execution_count": 3,
   "metadata": {},
   "outputs": [],
   "source": [
    "import geopandas as gpd\n",
    "\n",
    "#This is critical for ensuring that the ATL segments match one another\n",
    "atl_raster_ymins = []\n",
    "for i in range(0, 8):\n",
    "    b1 = i * 4\n",
    "    b2 = b1 + 4\n",
    "    gdf = gpd.read_file(f'../make_image/atl 1C/atl json/atl_{b1}_{b2}.json')\n",
    "    xmin, ymin, xmax, ymax = gdf.total_bounds\n",
    "    atl_raster_ymins.append(ymin)"
   ]
  },
  {
   "cell_type": "code",
   "execution_count": 42,
   "metadata": {},
   "outputs": [
    {
     "name": "stdout",
     "output_type": "stream",
     "text": [
      "(570762.3815780896, 9497300.033293018)\n",
      "(35, -545)\n",
      "total shift for 0-4: (-13.983128056248404, -37.76168354328877)\n",
      "(572066.3416800046, 9501348.838212125)\n",
      "(46, -358)\n",
      "total shift for 4-8: (-4.156852066885122, -41.30669591305548)\n",
      "(573272.7012045436, 9505230.609904572)\n",
      "(66, -171)\n",
      "total shift for 8-12: (-26.158582361057327, -26.351194070805434)\n",
      "(574496.8261999603, 9509134.984480413)\n",
      "(84, -327)\n",
      "total shift for 12-16: (-44.817967097552526, -18.554778888084456)\n",
      "(575733.9324536205, 9513079.289737793)\n",
      "(147, -490)\n",
      "total shift for 16-20: (-25.714324206896578, -37.2455571082254)\n",
      "(576926.2194879231, 9516919.30801871)\n",
      "(206, -519)\n",
      "total shift for 20-24: (-14.386710081885667, -37.81166511578533)\n",
      "(578198.444107707, 9521073.96961165)\n",
      "(80, -549)\n",
      "total shift for 24-28: (-59.99804257028886, 436.78038105349174)\n",
      "(579373.1729606858, 9524984.499241997)\n",
      "(305, -940)\n",
      "total shift for 28-32: (-58.044521654054165, -36.51028702204394)\n"
     ]
    }
   ],
   "source": [
    "import math\n",
    "import numpy as np\n",
    "import pandas as pd\n",
    "import geopandas as gpd\n",
    "\n",
    "min_loc_val = [(35, 545),\n",
    " (46, 358),\n",
    " (66, 171),\n",
    " (84, 327),\n",
    " (147, 490),\n",
    " (206, 519),\n",
    " (80, 549),\n",
    " (305, 940)]\n",
    "\n",
    "step = -0.18\n",
    "ROT_C = np.arange(17.88, 17.88 + 8 * step, step)\n",
    "\n",
    "def rotate(origin, point, angle):\n",
    "    ox, oy = origin\n",
    "    px, py = point\n",
    "\n",
    "    qx = ox + math.cos(angle) * (px - ox) - math.sin(angle) * (py - oy)\n",
    "    qy = oy + math.sin(angle) * (px - ox) + math.cos(angle) * (py - oy)\n",
    "    return qx, qy\n",
    "\n",
    "def get_offset(i, min_loc_val, ANGLE):\n",
    "    atl_df = pd.read_csv('unshifted_gt3r_full.csv')\n",
    "    b1 = i * 4\n",
    "    b2 = b1 + 4\n",
    "    chirop_df = pd.read_pickle(f'../data/1C/10 1C/{b1}m_{b2}m.pkl')\n",
    "    x_min = min(chirop_df['x'])\n",
    "    x_max = max(chirop_df['x'])\n",
    "    y_min = min(chirop_df['y'])\n",
    "    y_max = max(chirop_df['y'])\n",
    "    ATL_max_y = atl_raster_ymins[i] + 4000\n",
    "    ATL_min_y = ATL_max_y - 2000\n",
    "\n",
    "    atl_df = atl_df[(atl_df['y'] >= ATL_min_y) & (atl_df['y'] <= ATL_max_y)]\n",
    "    TL_POINT = get_chirop_tl_coord(i, ANGLE)\n",
    "\n",
    "    #revert ATL to Chirop TL\n",
    "    x_max = max(atl_df['x'])\n",
    "    y_max = max(atl_df['y'])\n",
    "\n",
    "    offset = (TL_POINT[0] - x_max, TL_POINT[1] - y_max)\n",
    "    atl_df['x'] = atl_df['x'] + offset[0]\n",
    "    atl_df['y'] = atl_df['y'] + offset[1]\n",
    "\n",
    "    atl_df.to_csv(f'debug_shifted_atl_{b1}_{b2}.csv', index=False)\n",
    "    #At this point, the ATL has been matched to the top-left corner.\n",
    "    #We now want to shift with the best fit (in original coordinates).\n",
    "    \n",
    "    (best_x, best_y) = min_loc_val[i]\n",
    "    best_fit = (best_x, -best_y)\n",
    "    print(best_fit)\n",
    "    best_fit = rotate((0,0), best_fit, -np.deg2rad(ANGLE))\n",
    "    print(f'total shift for {b1}-{b2}: {(best_fit[0] + offset[0], best_fit[1] + offset[1])}')\n",
    "    atl_df['x'] = atl_df['x'] + best_fit[0]\n",
    "    atl_df['y'] = atl_df['y'] + best_fit[1]\n",
    "    atl_df.to_csv(f'debug_shifted_atl_{b1}_{b2}.csv', index=False)\n",
    "\n",
    "for i in range(0,8):\n",
    "    get_offset(i, min_loc_val, 17.88)"
   ]
  },
  {
   "cell_type": "code",
   "execution_count": 8,
   "metadata": {},
   "outputs": [
    {
     "name": "stdout",
     "output_type": "stream",
     "text": [
      "(570762.3815780896, 9497300.033293018)\n",
      "(-90.78956921978838, 388.9090563626479)\n"
     ]
    }
   ],
   "source": [
    "get_offset(0, min_loc_val, ROT_C[0])"
   ]
  }
 ],
 "metadata": {
  "kernelspec": {
   "display_name": "cs1430",
   "language": "python",
   "name": "python3"
  },
  "language_info": {
   "codemirror_mode": {
    "name": "ipython",
    "version": 3
   },
   "file_extension": ".py",
   "mimetype": "text/x-python",
   "name": "python",
   "nbconvert_exporter": "python",
   "pygments_lexer": "ipython3",
   "version": "3.9.18"
  }
 },
 "nbformat": 4,
 "nbformat_minor": 2
}

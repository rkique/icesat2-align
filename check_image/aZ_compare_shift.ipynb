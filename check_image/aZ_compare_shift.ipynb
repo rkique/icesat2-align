{
 "cells": [
  {
   "cell_type": "code",
   "execution_count": 43,
   "metadata": {},
   "outputs": [
    {
     "name": "stdout",
     "output_type": "stream",
     "text": [
      "569358.0299999999 571119.9599999998 9492739.940000001 9497243.080000002\n",
      "569359.6368558452 571118.4770393161 9492815.605490284 9498288.128618168\n"
     ]
    }
   ],
   "source": [
    "import pandas as pd\n",
    "import geopandas as gpd\n",
    "chirop = pd.read_pickle('../data/1C/10 1C/0m_4m.pkl')\n",
    "\n",
    "atl_df = pd.read_csv('unshifted_gt3r_full.csv')\n",
    "\n",
    "b1 = 0\n",
    "b2 = b1 + 4\n",
    "chirop04 = pd.read_pickle(f'../data/1C/10 1C/{b1}m_{b2}m.pkl')\n",
    "\n",
    "x_min = min(chirop04['x'])\n",
    "x_max = max(chirop04['x'])\n",
    "y_min = min(chirop04['y'])\n",
    "y_max = max(chirop04['y'])\n",
    "\n",
    "print(f'{x_min} {x_max} {y_min} {y_max}')\n",
    "# box = np.array([[x_min, y_min], [x_min, y_max], [x_max, y_min], [x_max, y_max]])\n",
    "# np.savetxt('box.txt', box)\n",
    "\n",
    "atl_df = atl_df[(atl_df['x'] >= x_min) & (atl_df['x'] <= x_max)]\n",
    "x_min = min(atl_df['x'])\n",
    "x_max = max(atl_df['x'])\n",
    "y_min = min(atl_df['y'])\n",
    "y_max = max(atl_df['y'])\n",
    "\n",
    "#we are comparing the 1000:-1000 section of the (straight) ATL against the chiroptera in feature matching\n",
    "#so we do 1/cos(17.9) * 1000 to get the y cutoffs\n",
    "\n",
    "atl_df = atl_df[(atl_df['y'] >= y_min + 1051) & (atl_df['y'] <= y_max - 1051)]\n",
    "print(f'{x_min} {x_max} {y_min} {y_max}')\n",
    "atl_df['x'] = atl_df['x'] + 41.9 - 42\n",
    "atl_df['y'] = atl_df['y'] + 104 - 129\n",
    "\n",
    "chirop04.to_csv('chirop_0_4_auto_shift.csv', index=False)\n",
    "atl_df.to_csv('0_4_df_auto_shift.csv', index=False)\n"
   ]
  },
  {
   "cell_type": "code",
   "execution_count": null,
   "metadata": {},
   "outputs": [],
   "source": []
  }
 ],
 "metadata": {
  "kernelspec": {
   "display_name": "cs1430",
   "language": "python",
   "name": "python3"
  },
  "language_info": {
   "codemirror_mode": {
    "name": "ipython",
    "version": 3
   },
   "file_extension": ".py",
   "mimetype": "text/x-python",
   "name": "python",
   "nbconvert_exporter": "python",
   "pygments_lexer": "ipython3",
   "version": "3.9.18"
  }
 },
 "nbformat": 4,
 "nbformat_minor": 2
}

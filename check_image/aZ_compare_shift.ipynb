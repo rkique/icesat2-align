{
 "cells": [
  {
   "cell_type": "code",
   "execution_count": 84,
   "metadata": {},
   "outputs": [],
   "source": [
    "#1. given four coordinates and a rotation angle, get XatTopEdge and YatLeftEdge.\n",
    "chirop = pd.read_pickle('../data/1C/10 1C/0m_4m.pkl')\n",
    "tl, \n",
    "#2. add x to top edge and y at left edge to get the top-left chiroptera point.\n",
    "\n",
    "#3. calculate the reset between the chiroptera and atl, and add it to atl. \n",
    "\n",
    "#4. add the rotated offset to the atl.\n",
    "\n",
    "#5. run correlation!"
   ]
  },
  {
   "cell_type": "code",
   "execution_count": 109,
   "metadata": {},
   "outputs": [
    {
     "name": "stdout",
     "output_type": "stream",
     "text": [
      "(570762.9061543589, 9497299.94695935)\n"
     ]
    }
   ],
   "source": [
    "import pandas as pd\n",
    "import numpy as np\n",
    "import math\n",
    "\n",
    "#Because the image matcher matches ATL and chiroptera images from the top left,\n",
    "#it is necessary to geolocate the original top left corner of the Chiroptera.\n",
    "#To do this, we unrotate the original Chiroptera LiDAR (which is at an angle), gets (xmin, ymax), and re-rotate it.\n",
    "\n",
    "def rotate(origin, point, angle):\n",
    "    ox, oy = origin\n",
    "    px, py = point\n",
    "\n",
    "    qx = ox + math.cos(angle) * (px - ox) - math.sin(angle) * (py - oy)\n",
    "    qy = oy + math.sin(angle) * (px - ox) + math.cos(angle) * (py - oy)\n",
    "    return qx, qy"
   ]
  },
  {
   "cell_type": "code",
   "execution_count": 7,
   "metadata": {},
   "outputs": [],
   "source": [
    "def get_chirop_tl_coord(i, ANGLE):\n",
    "    b1 = i * 4\n",
    "    b2 = b1 + 4\n",
    "    df = pd.read_pickle(f'../data/1C/10 1C/{b1}m_{b2}m.pkl')\n",
    "    ANGLE = np.deg2rad(ANGLE)\n",
    "    center = ((min(df['x']) + max(df['x'])) / 2, (min(df['y']) + max(df['y'])) / 2)\n",
    "\n",
    "    for index, row in df.iterrows():\n",
    "        (x,y) = rotate(center, (row['x'], row['y']), ANGLE)\n",
    "        row['x'], row['y'] = (x,y)\n",
    "\n",
    "    (rx, ry) = (min(df['x']), max(df['y']))\n",
    "    (urx, ury) = rotate(center, (rx, ry), -ANGLE)\n",
    "    #df.to_csv('rot_debug_chirop_df.csv', index=False)\n",
    "    print((urx, ury))\n",
    "    return (urx, ury)"
   ]
  },
  {
   "cell_type": "code",
   "execution_count": 3,
   "metadata": {},
   "outputs": [],
   "source": [
    "import geopandas as gpd\n",
    "\n",
    "#This is critical for ensuring that the ATL segments match one another\n",
    "\n",
    "atl_raster_ymins = []\n",
    "\n",
    "for i in range(0, 8):\n",
    "    b1 = i * 4\n",
    "    b2 = b1 + 4\n",
    "    gdf = gpd.read_file(f'../make_image/atl 1C/atl json/atl_{b1}_{b2}.json')\n",
    "    xmin, ymin, xmax, ymax = gdf.total_bounds\n",
    "    atl_raster_ymins.append(ymin)"
   ]
  },
  {
   "cell_type": "code",
   "execution_count": 36,
   "metadata": {},
   "outputs": [
    {
     "name": "stdout",
     "output_type": "stream",
     "text": [
      "(35, -545)\n",
      "(-134.01875715839373, -529.4232453620822)\n"
     ]
    }
   ],
   "source": [
    "import math\n",
    "import numpy as np\n",
    "import pandas as pd\n",
    "import geopandas as gpd\n",
    "\n",
    "chirop = pd.read_pickle('../data/1C/10 1C/0m_4m.pkl')\n",
    "\n",
    "min_loc_val = [(35, 545),\n",
    " (46, 358),\n",
    " (66, 171),\n",
    " (84, 327),\n",
    " (147, 490),\n",
    " (206, 519),\n",
    " (80, 549),\n",
    " (305, 940)]\n",
    "\n",
    "step = -0.18\n",
    "ROT_C = np.arange(17.88, 17.88 + 8 * step, step)\n",
    "\n",
    "def rotate(origin, point, angle):\n",
    "    ox, oy = origin\n",
    "    px, py = point\n",
    "\n",
    "    qx = ox + math.cos(angle) * (px - ox) - math.sin(angle) * (py - oy)\n",
    "    qy = oy + math.sin(angle) * (px - ox) + math.cos(angle) * (py - oy)\n",
    "    return qx, qy\n",
    "\n",
    "def get_offset(i, min_loc_val, ANGLE):\n",
    "    atl_df = pd.read_csv('unshifted_gt3r_full.csv')\n",
    "    b1 = i * 4\n",
    "    b2 = b1 + 4\n",
    "    chirop_df = pd.read_pickle(f'../data/1C/10 1C/{b1}m_{b2}m.pkl')\n",
    "    x_min = min(chirop_df['x'])\n",
    "    x_max = max(chirop_df['x'])\n",
    "    y_min = min(chirop_df['y'])\n",
    "    y_max = max(chirop_df['y'])\n",
    "    ATL_max_y = atl_raster_ymins[i] + 4000\n",
    "    ATL_min_y = ATL_max_y - 2000\n",
    "\n",
    "    atl_df = atl_df[(atl_df['y'] >= ATL_min_y) & (atl_df['y'] <= ATL_max_y)]\n",
    "    TL_POINT = (570762.3815780896, 9497300.033293018) #get_chirop_tl_coord(i, ANGLE)\n",
    "\n",
    "    #revert ATL to Chirop TL\n",
    "    x_max = max(atl_df['x'])\n",
    "    y_max = max(atl_df['y'])\n",
    "\n",
    "    offset = (TL_POINT[0] - x_max, TL_POINT[1] - y_max)\n",
    "    atl_df['x'] = atl_df['x'] + offset[0]\n",
    "    atl_df['y'] = atl_df['y'] + offset[1]\n",
    "\n",
    "    atl_df.to_csv(f'debug_shifted_atl_{b1}_{b2}.csv', index=False)\n",
    "    #At this point, the ATL has been matched to the top-left corner.\n",
    "    #We now want to shift with the best fit (in original coordinates).\n",
    "    #(x,y) (?)\n",
    "    \n",
    "    (best_x, best_y) = min_loc_val[i]\n",
    "    best_fit = (best_x, -best_y)\n",
    "    print(best_fit)\n",
    "    best_fit = rotate((0,0), best_fit, -np.deg2rad(ANGLE))\n",
    "    print(best_fit)\n",
    "    atl_df['x'] = atl_df['x'] + best_fit[0]\n",
    "    atl_df['y'] = atl_df['y'] + best_fit[1]\n",
    "    atl_df.to_csv(f'debug_shifted_atl_{b1}_{b2}.csv', index=False)\n",
    "\n",
    "get_offset(0, min_loc_val, ROT_C[0])"
   ]
  },
  {
   "cell_type": "code",
   "execution_count": 8,
   "metadata": {},
   "outputs": [
    {
     "name": "stdout",
     "output_type": "stream",
     "text": [
      "(570762.3815780896, 9497300.033293018)\n",
      "(-90.78956921978838, 388.9090563626479)\n"
     ]
    }
   ],
   "source": [
    "get_offset(0, min_loc_val, ROT_C[0])"
   ]
  }
 ],
 "metadata": {
  "kernelspec": {
   "display_name": "cs1430",
   "language": "python",
   "name": "python3"
  },
  "language_info": {
   "codemirror_mode": {
    "name": "ipython",
    "version": 3
   },
   "file_extension": ".py",
   "mimetype": "text/x-python",
   "name": "python",
   "nbconvert_exporter": "python",
   "pygments_lexer": "ipython3",
   "version": "3.9.18"
  }
 },
 "nbformat": 4,
 "nbformat_minor": 2
}
